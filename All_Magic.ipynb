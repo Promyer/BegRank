{
 "cells": [
  {
   "cell_type": "markdown",
   "metadata": {},
   "source": [
    "#### Подготовка списка необходимых урлов и запросов\n",
    "В src/scripts/ есть два скрипта - подготовки списка урлов, встречающихся в трейн-тест множестве и подготовки запросов, а также похожих на них в train-test множестве"
   ]
  },
  {
   "cell_type": "code",
   "execution_count": 1,
   "metadata": {},
   "outputs": [],
   "source": [
    "train_marks = open(\"train.marks.tsv\", \"r\")\n",
    "samples = open(\"sample.csv\", \"r\")\n",
    "urls = open(\"url.data\", \"r\")\n",
    "queries = open(\"queries.tsv\", \"r\")\n",
    "statistics_file = open(\"statistics.dat\", \"r\")"
   ]
  },
  {
   "cell_type": "code",
   "execution_count": 24,
   "metadata": {},
   "outputs": [
    {
     "name": "stdout",
     "output_type": "stream",
     "text": [
      "c DD@ @play.google.com/store/apps\t2 12 -1 -1 0 -1 -1 0 0 0 -1 0 0 0 0 0 0 6 -1 -1 0 -1 -1 0 0 0 0 0 0 1 0 0 1 0 0 0 1 1 0 0 1 0 0 0 0 0\n",
      "\n",
      "c DD@ @rg.ru/2013/02/12/uvenalnaia.html\t7 53 2 4 20 -1 2 0 0 2 2 2 0 0 0 2 0 7 0 0 2 -1 0 0 0 0 0 0 1 0 0 0 0 0 0 0 -1 1 0 1 1 0 0 1 0 0\n",
      "\n",
      "c DD@ @worldoftanks.ru/\t4 14 -1 -1 0 -1 -1 0 0 0 -1 0 0 0 0 0 0 3 -1 -1 0 -1 -1 0 0 0 0 0 0 1 0 0 1 0 0 0 1 1 0 0 1 0 0 0 0 0\n",
      "\n"
     ]
    },
    {
     "name": "stderr",
     "output_type": "stream",
     "text": [
      "IOPub data rate exceeded.\n",
      "The notebook server will temporarily stop sending output\n",
      "to the client in order to avoid crashing it.\n",
      "To change this limit, set the config variable\n",
      "`--NotebookApp.iopub_data_rate_limit`.\n",
      "\n",
      "Current values:\n",
      "NotebookApp.iopub_data_rate_limit=1000000.0 (bytes/sec)\n",
      "NotebookApp.rate_limit_window=3.0 (secs)\n",
      "\n"
     ]
    },
    {
     "ename": "ValueError",
     "evalue": "not enough values to unpack (expected 2, got 1)",
     "output_type": "error",
     "traceback": [
      "\u001b[0;31m---------------------------------------------------------------------------\u001b[0m",
      "\u001b[0;31mValueError\u001b[0m                                Traceback (most recent call last)",
      "\u001b[0;32m<ipython-input-24-83a9d0c9dd9b>\u001b[0m in \u001b[0;36m<module>\u001b[0;34m\u001b[0m\n\u001b[1;32m      9\u001b[0m         \u001b[0mprint\u001b[0m \u001b[0;34m(\u001b[0m\u001b[0;36m1\u001b[0m\u001b[0;34m)\u001b[0m\u001b[0;34m\u001b[0m\u001b[0;34m\u001b[0m\u001b[0m\n\u001b[1;32m     10\u001b[0m         \u001b[0mprint\u001b[0m \u001b[0;34m(\u001b[0m\u001b[0mline\u001b[0m\u001b[0;34m)\u001b[0m\u001b[0;34m\u001b[0m\u001b[0;34m\u001b[0m\u001b[0m\n\u001b[0;32m---> 11\u001b[0;31m     \u001b[0mbuf\u001b[0m\u001b[0;34m,\u001b[0m \u001b[0mvalue\u001b[0m \u001b[0;34m=\u001b[0m \u001b[0mline\u001b[0m\u001b[0;34m.\u001b[0m\u001b[0mstrip\u001b[0m\u001b[0;34m(\u001b[0m\u001b[0;34m)\u001b[0m\u001b[0;34m.\u001b[0m\u001b[0msplit\u001b[0m\u001b[0;34m(\u001b[0m\u001b[0;34m\"\\t\"\u001b[0m\u001b[0;34m)\u001b[0m\u001b[0;34m\u001b[0m\u001b[0;34m\u001b[0m\u001b[0m\n\u001b[0m\u001b[1;32m     12\u001b[0m     \u001b[0mitent\u001b[0m \u001b[0;34m=\u001b[0m \u001b[0mline\u001b[0m\u001b[0;34m[\u001b[0m\u001b[0;34m:\u001b[0m\u001b[0;36m2\u001b[0m\u001b[0;34m]\u001b[0m\u001b[0;34m\u001b[0m\u001b[0;34m\u001b[0m\u001b[0m\n\u001b[1;32m     13\u001b[0m \u001b[0;34m\u001b[0m\u001b[0m\n",
      "\u001b[0;31mValueError\u001b[0m: not enough values to unpack (expected 2, got 1)"
     ]
    }
   ],
   "source": [
    "query_stat = dict()\n",
    "query_document_stat = dict()\n",
    "query_host_stat = dict()\n",
    "document_stat = dict()\n",
    "host_stat = dict()\n",
    "\n",
    "for line in statistics_file:\n",
    "    if len (line.strip().split(\"\\t\")) == 1:\n",
    "        print (1)\n",
    "        print (line)\n",
    "    buf, value = line.strip().split(\"\\t\")\n",
    "    itent = line[:2]\n",
    "\n",
    "    if itent == 'QQ':\n",
    "        if query_stat.get(buf[5:]):\n",
    "            \n",
    "            print (\"a\", line)\n",
    "        query_stat[buf[5:]] = [int(x) for x in value.split(\" \")]\n",
    "        \n",
    "    elif itent == 'QD':\n",
    "        if query_document_stat.get(buf[5:]):\n",
    "            print (\"b\", line)\n",
    "        query_document_stat[buf[5:]] = [int(x) for x in value.split(\" \")]\n",
    "        \n",
    "    elif itent == 'QH':\n",
    "        if query_host_stat.get(buf[5:]):\n",
    "            print (\"d\", line)\n",
    "        query_host_stat[buf[5:]] = [int(x) for x in value.split(\" \")]\n",
    "        \n",
    "    elif itent == 'DD':\n",
    "        if document_stat.get(buf[5:]):\n",
    "            print (\"c\", line)\n",
    "        document_stat[buf[5:]] = [int(x) for x in value.split(\" \")]\n",
    "        \n",
    "    elif itent == 'HH':\n",
    "        if query_host_stat.get(buf[5:]):\n",
    "            print (\"q\",line)\n",
    "        query_host_stat[buf[5:]] = [int(x) for x in value.split(\" \")]\n",
    "    \n",
    "    else:\n",
    "        print (\"Error\"  + line)"
   ]
  },
  {
   "cell_type": "markdown",
   "metadata": {},
   "source": [
    "### Генерация обучающего и тестового множества в статистиках"
   ]
  },
  {
   "cell_type": "code",
   "execution_count": 3,
   "metadata": {},
   "outputs": [],
   "source": [
    "train_set = []\n",
    "for line in train_marks:\n",
    "    query_id, document_id, mark = line.split('\\t')\n",
    "    sample = [0] * \n",
    "    query = query_table[query_id]\n",
    "    url = url_table[qu]"
   ]
  },
  {
   "cell_type": "code",
   "execution_count": 4,
   "metadata": {},
   "outputs": [
    {
     "data": {
      "text/plain": [
       "'6305'"
      ]
     },
     "execution_count": 4,
     "metadata": {},
     "output_type": "execute_result"
    }
   ],
   "source": [
    "query_id"
   ]
  },
  {
   "cell_type": "code",
   "execution_count": null,
   "metadata": {},
   "outputs": [],
   "source": []
  }
 ],
 "metadata": {
  "kernelspec": {
   "display_name": "Python 3",
   "language": "python",
   "name": "python3"
  },
  "language_info": {
   "codemirror_mode": {
    "name": "ipython",
    "version": 3
   },
   "file_extension": ".py",
   "mimetype": "text/x-python",
   "name": "python",
   "nbconvert_exporter": "python",
   "pygments_lexer": "ipython3",
   "version": "3.7.3"
  }
 },
 "nbformat": 4,
 "nbformat_minor": 2
}
